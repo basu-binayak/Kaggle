{
 "cells": [
  {
   "cell_type": "code",
   "execution_count": 1,
   "id": "7b7961cd",
   "metadata": {
    "_cell_guid": "b1076dfc-b9ad-4769-8c92-a6c4dae69d19",
    "_uuid": "8f2839f25d086af736a60e9eeb907d3b93b6e0e5",
    "execution": {
     "iopub.execute_input": "2025-05-06T11:02:39.210546Z",
     "iopub.status.busy": "2025-05-06T11:02:39.210149Z",
     "iopub.status.idle": "2025-05-06T11:02:41.100184Z",
     "shell.execute_reply": "2025-05-06T11:02:41.099031Z"
    },
    "papermill": {
     "duration": 1.89981,
     "end_time": "2025-05-06T11:02:41.101767",
     "exception": false,
     "start_time": "2025-05-06T11:02:39.201957",
     "status": "completed"
    },
    "tags": []
   },
   "outputs": [
    {
     "name": "stdout",
     "output_type": "stream",
     "text": [
      "/kaggle/input/facebook-ad-campaign/data.csv\n"
     ]
    }
   ],
   "source": [
    "# This Python 3 environment comes with many helpful analytics libraries installed\n",
    "# It is defined by the kaggle/python Docker image: https://github.com/kaggle/docker-python\n",
    "# For example, here's several helpful packages to load\n",
    "\n",
    "import numpy as np # linear algebra\n",
    "import pandas as pd # data processing, CSV file I/O (e.g. pd.read_csv)\n",
    "\n",
    "# Input data files are available in the read-only \"../input/\" directory\n",
    "# For example, running this (by clicking run or pressing Shift+Enter) will list all files under the input directory\n",
    "\n",
    "import os\n",
    "for dirname, _, filenames in os.walk('/kaggle/input'):\n",
    "    for filename in filenames:\n",
    "        print(os.path.join(dirname, filename))\n",
    "\n",
    "# You can write up to 20GB to the current directory (/kaggle/working/) that gets preserved as output when you create a version using \"Save & Run All\" \n",
    "# You can also write temporary files to /kaggle/temp/, but they won't be saved outside of the current session"
   ]
  },
  {
   "cell_type": "code",
   "execution_count": 2,
   "id": "1617442b",
   "metadata": {
    "execution": {
     "iopub.execute_input": "2025-05-06T11:02:41.115253Z",
     "iopub.status.busy": "2025-05-06T11:02:41.114861Z",
     "iopub.status.idle": "2025-05-06T11:02:43.099847Z",
     "shell.execute_reply": "2025-05-06T11:02:43.098887Z"
    },
    "papermill": {
     "duration": 1.993595,
     "end_time": "2025-05-06T11:02:43.101692",
     "exception": false,
     "start_time": "2025-05-06T11:02:41.108097",
     "status": "completed"
    },
    "tags": []
   },
   "outputs": [],
   "source": [
    "# import necessary libraries \n",
    "import pandas as pd\n",
    "import numpy as np\n",
    "import matplotlib.pyplot as plt \n",
    "import seaborn as sns \n",
    "sns.set_style('darkgrid')\n",
    "\n",
    "import warnings\n",
    "warnings.filterwarnings(\"ignore\")"
   ]
  },
  {
   "cell_type": "code",
   "execution_count": 3,
   "id": "594607d6",
   "metadata": {
    "execution": {
     "iopub.execute_input": "2025-05-06T11:02:43.116386Z",
     "iopub.status.busy": "2025-05-06T11:02:43.115923Z",
     "iopub.status.idle": "2025-05-06T11:02:43.166502Z",
     "shell.execute_reply": "2025-05-06T11:02:43.165495Z"
    },
    "papermill": {
     "duration": 0.059097,
     "end_time": "2025-05-06T11:02:43.168104",
     "exception": false,
     "start_time": "2025-05-06T11:02:43.109007",
     "status": "completed"
    },
    "tags": []
   },
   "outputs": [
    {
     "data": {
      "text/html": [
       "<div>\n",
       "<style scoped>\n",
       "    .dataframe tbody tr th:only-of-type {\n",
       "        vertical-align: middle;\n",
       "    }\n",
       "\n",
       "    .dataframe tbody tr th {\n",
       "        vertical-align: top;\n",
       "    }\n",
       "\n",
       "    .dataframe thead th {\n",
       "        text-align: right;\n",
       "    }\n",
       "</style>\n",
       "<table border=\"1\" class=\"dataframe\">\n",
       "  <thead>\n",
       "    <tr style=\"text-align: right;\">\n",
       "      <th></th>\n",
       "      <th>ad_id</th>\n",
       "      <th>reporting_start</th>\n",
       "      <th>reporting_end</th>\n",
       "      <th>campaign_id</th>\n",
       "      <th>fb_campaign_id</th>\n",
       "      <th>age</th>\n",
       "      <th>gender</th>\n",
       "      <th>interest1</th>\n",
       "      <th>interest2</th>\n",
       "      <th>interest3</th>\n",
       "      <th>impressions</th>\n",
       "      <th>clicks</th>\n",
       "      <th>spent</th>\n",
       "      <th>total_conversion</th>\n",
       "      <th>approved_conversion</th>\n",
       "    </tr>\n",
       "  </thead>\n",
       "  <tbody>\n",
       "    <tr>\n",
       "      <th>0</th>\n",
       "      <td>708746</td>\n",
       "      <td>17/08/2017</td>\n",
       "      <td>17/08/2017</td>\n",
       "      <td>916</td>\n",
       "      <td>103916</td>\n",
       "      <td>30-34</td>\n",
       "      <td>M</td>\n",
       "      <td>15</td>\n",
       "      <td>17</td>\n",
       "      <td>17</td>\n",
       "      <td>7350.0</td>\n",
       "      <td>1</td>\n",
       "      <td>1.43</td>\n",
       "      <td>2.0</td>\n",
       "      <td>1.0</td>\n",
       "    </tr>\n",
       "    <tr>\n",
       "      <th>1</th>\n",
       "      <td>708749</td>\n",
       "      <td>17/08/2017</td>\n",
       "      <td>17/08/2017</td>\n",
       "      <td>916</td>\n",
       "      <td>103917</td>\n",
       "      <td>30-34</td>\n",
       "      <td>M</td>\n",
       "      <td>16</td>\n",
       "      <td>19</td>\n",
       "      <td>21</td>\n",
       "      <td>17861.0</td>\n",
       "      <td>2</td>\n",
       "      <td>1.82</td>\n",
       "      <td>2.0</td>\n",
       "      <td>0.0</td>\n",
       "    </tr>\n",
       "    <tr>\n",
       "      <th>2</th>\n",
       "      <td>708771</td>\n",
       "      <td>17/08/2017</td>\n",
       "      <td>17/08/2017</td>\n",
       "      <td>916</td>\n",
       "      <td>103920</td>\n",
       "      <td>30-34</td>\n",
       "      <td>M</td>\n",
       "      <td>20</td>\n",
       "      <td>25</td>\n",
       "      <td>22</td>\n",
       "      <td>693.0</td>\n",
       "      <td>0</td>\n",
       "      <td>0.00</td>\n",
       "      <td>1.0</td>\n",
       "      <td>0.0</td>\n",
       "    </tr>\n",
       "    <tr>\n",
       "      <th>3</th>\n",
       "      <td>708815</td>\n",
       "      <td>30/08/2017</td>\n",
       "      <td>30/08/2017</td>\n",
       "      <td>916</td>\n",
       "      <td>103928</td>\n",
       "      <td>30-34</td>\n",
       "      <td>M</td>\n",
       "      <td>28</td>\n",
       "      <td>32</td>\n",
       "      <td>32</td>\n",
       "      <td>4259.0</td>\n",
       "      <td>1</td>\n",
       "      <td>1.25</td>\n",
       "      <td>1.0</td>\n",
       "      <td>0.0</td>\n",
       "    </tr>\n",
       "    <tr>\n",
       "      <th>4</th>\n",
       "      <td>708818</td>\n",
       "      <td>17/08/2017</td>\n",
       "      <td>17/08/2017</td>\n",
       "      <td>916</td>\n",
       "      <td>103928</td>\n",
       "      <td>30-34</td>\n",
       "      <td>M</td>\n",
       "      <td>28</td>\n",
       "      <td>33</td>\n",
       "      <td>32</td>\n",
       "      <td>4133.0</td>\n",
       "      <td>1</td>\n",
       "      <td>1.29</td>\n",
       "      <td>1.0</td>\n",
       "      <td>1.0</td>\n",
       "    </tr>\n",
       "  </tbody>\n",
       "</table>\n",
       "</div>"
      ],
      "text/plain": [
       "    ad_id reporting_start reporting_end campaign_id fb_campaign_id    age  \\\n",
       "0  708746      17/08/2017    17/08/2017         916         103916  30-34   \n",
       "1  708749      17/08/2017    17/08/2017         916         103917  30-34   \n",
       "2  708771      17/08/2017    17/08/2017         916         103920  30-34   \n",
       "3  708815      30/08/2017    30/08/2017         916         103928  30-34   \n",
       "4  708818      17/08/2017    17/08/2017         916         103928  30-34   \n",
       "\n",
       "  gender  interest1  interest2  interest3  impressions  clicks  spent  \\\n",
       "0      M         15         17         17       7350.0       1   1.43   \n",
       "1      M         16         19         21      17861.0       2   1.82   \n",
       "2      M         20         25         22        693.0       0   0.00   \n",
       "3      M         28         32         32       4259.0       1   1.25   \n",
       "4      M         28         33         32       4133.0       1   1.29   \n",
       "\n",
       "   total_conversion  approved_conversion  \n",
       "0               2.0                  1.0  \n",
       "1               2.0                  0.0  \n",
       "2               1.0                  0.0  \n",
       "3               1.0                  0.0  \n",
       "4               1.0                  1.0  "
      ]
     },
     "execution_count": 3,
     "metadata": {},
     "output_type": "execute_result"
    }
   ],
   "source": [
    "# import the data \n",
    "adv_df = pd.read_csv('/kaggle/input/facebook-ad-campaign/data.csv')\n",
    "adv_df.head()"
   ]
  },
  {
   "cell_type": "markdown",
   "id": "25c684a7",
   "metadata": {
    "papermill": {
     "duration": 0.006156,
     "end_time": "2025-05-06T11:02:43.180606",
     "exception": false,
     "start_time": "2025-05-06T11:02:43.174450",
     "status": "completed"
    },
    "tags": []
   },
   "source": [
    "# Facebook Ad Campaign Data\n",
    "---\n",
    "\n",
    "## 📘 **Background of the Data**\n",
    "\n",
    "This dataset contains performance data of **Facebook ads** run over different time periods. It captures various dimensions like **audience segmentation (age, gender, interests)**, **campaign identifiers**, and **performance metrics** such as impressions, clicks, spend, and conversions.\n",
    "\n",
    "\n",
    "## 📊 **Column-wise Explanation**\n",
    "\n",
    "| Column Name                           | Description                                                                     |\n",
    "| ------------------------------------- | ------------------------------------------------------------------------------- |\n",
    "| `ad_id`                               | Unique identifier for each ad.                                                  |\n",
    "| `reporting_start`                     | Start date of the ad's reporting period.                                        |\n",
    "| `reporting_end`                       | End date of the ad's reporting period.                                          |\n",
    "| `campaign_id`                         | Internal campaign identifier.                                                   |\n",
    "| `fb_campaign_id`                      | Facebook's campaign ID used for targeting and tracking.                         |\n",
    "| `age`                                 | Age group targeted by the ad (e.g., 30-34).                                     |\n",
    "| `gender`                              | Gender targeted (`M` or `F`).                                                   |\n",
    "| `interest1`, `interest2`, `interest3` | Encoded user interest categories used for targeting (e.g., sports, fashion).    |\n",
    "| `impressions`                         | Number of times the ad was shown to users.                                      |\n",
    "| `clicks`                              | Number of times users clicked the ad.                                           |\n",
    "| `spent`                               | Total money spent (in USD) on the ad.                                           |\n",
    "| `total_conversion`                    | Total number of actions taken after the ad (e.g., signing up, visiting a page). |\n",
    "| `approved_conversion`                 | Subset of total conversions that were approved (e.g., verified signups).        |\n",
    "\n",
    "\n",
    "## 🎯 **Project Goal**\n",
    "\n",
    "> **Objective**: To evaluate and optimize Facebook ad campaign performance by identifying the most effective targeting strategies (age, gender, interests) that lead to higher conversions and lower cost per acquisition (CPA).\n",
    "\n",
    "---\n",
    "---\n"
   ]
  },
  {
   "cell_type": "code",
   "execution_count": 4,
   "id": "021ad37b",
   "metadata": {
    "execution": {
     "iopub.execute_input": "2025-05-06T11:02:43.194312Z",
     "iopub.status.busy": "2025-05-06T11:02:43.193668Z",
     "iopub.status.idle": "2025-05-06T11:02:43.220067Z",
     "shell.execute_reply": "2025-05-06T11:02:43.218834Z"
    },
    "papermill": {
     "duration": 0.035252,
     "end_time": "2025-05-06T11:02:43.221942",
     "exception": false,
     "start_time": "2025-05-06T11:02:43.186690",
     "status": "completed"
    },
    "tags": []
   },
   "outputs": [
    {
     "name": "stdout",
     "output_type": "stream",
     "text": [
      "<class 'pandas.core.frame.DataFrame'>\n",
      "RangeIndex: 1143 entries, 0 to 1142\n",
      "Data columns (total 15 columns):\n",
      " #   Column               Non-Null Count  Dtype  \n",
      "---  ------               --------------  -----  \n",
      " 0   ad_id                1143 non-null   int64  \n",
      " 1   reporting_start      1143 non-null   object \n",
      " 2   reporting_end        1143 non-null   object \n",
      " 3   campaign_id          1143 non-null   object \n",
      " 4   fb_campaign_id       1143 non-null   object \n",
      " 5   age                  1143 non-null   object \n",
      " 6   gender               1143 non-null   object \n",
      " 7   interest1            1143 non-null   int64  \n",
      " 8   interest2            1143 non-null   int64  \n",
      " 9   interest3            1143 non-null   int64  \n",
      " 10  impressions          1143 non-null   float64\n",
      " 11  clicks               1143 non-null   int64  \n",
      " 12  spent                1143 non-null   float64\n",
      " 13  total_conversion     761 non-null    float64\n",
      " 14  approved_conversion  761 non-null    float64\n",
      "dtypes: float64(4), int64(5), object(6)\n",
      "memory usage: 134.1+ KB\n"
     ]
    }
   ],
   "source": [
    "adv_df.info()"
   ]
  },
  {
   "cell_type": "markdown",
   "id": "df6c2e92",
   "metadata": {
    "papermill": {
     "duration": 0.006157,
     "end_time": "2025-05-06T11:02:43.234888",
     "exception": false,
     "start_time": "2025-05-06T11:02:43.228731",
     "status": "completed"
    },
    "tags": []
   },
   "source": []
  },
  {
   "cell_type": "markdown",
   "id": "78077c07",
   "metadata": {
    "papermill": {
     "duration": 0.005761,
     "end_time": "2025-05-06T11:02:43.247342",
     "exception": false,
     "start_time": "2025-05-06T11:02:43.241581",
     "status": "completed"
    },
    "tags": []
   },
   "source": [
    "# Imputation Strategy for `total_conversion` and `approved_conversion`"
   ]
  },
  {
   "cell_type": "code",
   "execution_count": 5,
   "id": "2ed437af",
   "metadata": {
    "execution": {
     "iopub.execute_input": "2025-05-06T11:02:43.261622Z",
     "iopub.status.busy": "2025-05-06T11:02:43.261272Z",
     "iopub.status.idle": "2025-05-06T11:02:43.631730Z",
     "shell.execute_reply": "2025-05-06T11:02:43.630796Z"
    },
    "papermill": {
     "duration": 0.379182,
     "end_time": "2025-05-06T11:02:43.633357",
     "exception": false,
     "start_time": "2025-05-06T11:02:43.254175",
     "status": "completed"
    },
    "tags": []
   },
   "outputs": [
    {
     "data": {
      "image/png": "[encoded data removed]",
      "text/plain": [
       "<Figure size 1200x600 with 1 Axes>"
      ]
     },
     "metadata": {},
     "output_type": "display_data"
    }
   ],
   "source": [
    "plt.figure(figsize=(12,6))\n",
    "sns.scatterplot(x = adv_df['clicks'],y = adv_df['total_conversion'])\n",
    "plt.show()"
   ]
  },
  {
   "cell_type": "markdown",
   "id": "4fd05aa0",
   "metadata": {
    "papermill": {
     "duration": 0.006206,
     "end_time": "2025-05-06T11:02:43.646550",
     "exception": false,
     "start_time": "2025-05-06T11:02:43.640344",
     "status": "completed"
    },
    "tags": []
   },
   "source": []
  },
  {
   "cell_type": "markdown",
   "id": "20780a8d",
   "metadata": {
    "papermill": {
     "duration": 0.006422,
     "end_time": "2025-05-06T11:02:43.659656",
     "exception": false,
     "start_time": "2025-05-06T11:02:43.653234",
     "status": "completed"
    },
    "tags": []
   },
   "source": [
    "## ✅ Hybrid Strategy to Impute `total_conversion`\n",
    "\n",
    "1. If `clicks == 0` → `total_conversion = 0`\n",
    "2. If `clicks > 0` and missing → Fill with `clicks * average_conversion_rate` (or segment-wise rate)\n",
    "\n",
    "This ensures you use **realistic and explainable values** rather than dropping rows or blindly filling with mean/median.\n",
    "\n",
    "---\n"
   ]
  },
  {
   "cell_type": "code",
   "execution_count": 6,
   "id": "c1fcd78e",
   "metadata": {
    "execution": {
     "iopub.execute_input": "2025-05-06T11:02:43.673955Z",
     "iopub.status.busy": "2025-05-06T11:02:43.673670Z",
     "iopub.status.idle": "2025-05-06T11:02:43.679867Z",
     "shell.execute_reply": "2025-05-06T11:02:43.678728Z"
    },
    "papermill": {
     "duration": 0.015202,
     "end_time": "2025-05-06T11:02:43.681459",
     "exception": false,
     "start_time": "2025-05-06T11:02:43.666257",
     "status": "completed"
    },
    "tags": []
   },
   "outputs": [],
   "source": [
    "# If clicks == 0 → total_conversion = 0 ( for values where total_conversion is NaN)\n",
    "adv_df.loc[(adv_df['clicks']==0) & (adv_df['total_conversion'].isna()), 'total_conversion'] = 0"
   ]
  },
  {
   "cell_type": "code",
   "execution_count": 7,
   "id": "4c3cac37",
   "metadata": {
    "execution": {
     "iopub.execute_input": "2025-05-06T11:02:43.696043Z",
     "iopub.status.busy": "2025-05-06T11:02:43.695752Z",
     "iopub.status.idle": "2025-05-06T11:02:43.705774Z",
     "shell.execute_reply": "2025-05-06T11:02:43.704979Z"
    },
    "papermill": {
     "duration": 0.018872,
     "end_time": "2025-05-06T11:02:43.707144",
     "exception": false,
     "start_time": "2025-05-06T11:02:43.688272",
     "status": "completed"
    },
    "tags": []
   },
   "outputs": [
    {
     "data": {
      "text/plain": [
       "total_conversion\n",
       "1.0    192\n",
       "2.0      8\n",
       "0.0      6\n",
       "Name: count, dtype: int64"
      ]
     },
     "execution_count": 7,
     "metadata": {},
     "output_type": "execute_result"
    }
   ],
   "source": [
    "adv_df.loc[(adv_df['clicks']==0)]['total_conversion'].value_counts()"
   ]
  },
  {
   "cell_type": "markdown",
   "id": "dc832130",
   "metadata": {
    "papermill": {
     "duration": 0.006356,
     "end_time": "2025-05-06T11:02:43.720333",
     "exception": false,
     "start_time": "2025-05-06T11:02:43.713977",
     "status": "completed"
    },
    "tags": []
   },
   "source": [
    "There are 192 rows where `total_conversion` ia 1 but the `clicks` is 0 and 8 rows where `total_conversion` is 2 but the `clicks` is 0. It is possible since the click may have happended at an earlier date.\n",
    "\n",
    "### 🛠️ Strategy to Fix Inconsistent Clicks Using Conversion Rate\n",
    "\n",
    "In our dataset, there are **data quality issues** where:\n",
    "\n",
    "* `clicks = 0` but `total_conversion > 0`\n",
    "\n",
    "This is **illogical** because conversions can't happen without clicks.\n",
    "\n",
    "#### ✅ Fixing the Issue Using Conversion Rate\n",
    "\n",
    "To fix this, I will use the formula:\n",
    "\n",
    "```python\n",
    "clicks = total_conversion / conversion_rate\n",
    "```\n",
    "\n",
    "##### Why this works:\n",
    "\n",
    "* **Conversion rate** is defined as:\n",
    "\n",
    "  ```\n",
    "  conversion_rate = total_conversion / clicks\n",
    "  ⇒ clicks = total_conversion / conversion_rate\n",
    "  ```\n",
    "* So, if you **observe a typical conversion rate** from valid rows (where data is consistent), you can estimate the **missing or incorrect clicks**.\n",
    "\n",
    "---\n"
   ]
  },
  {
   "cell_type": "code",
   "execution_count": 8,
   "id": "5c490e7d",
   "metadata": {
    "execution": {
     "iopub.execute_input": "2025-05-06T11:02:43.735066Z",
     "iopub.status.busy": "2025-05-06T11:02:43.734463Z",
     "iopub.status.idle": "2025-05-06T11:02:43.743521Z",
     "shell.execute_reply": "2025-05-06T11:02:43.742709Z"
    },
    "papermill": {
     "duration": 0.018027,
     "end_time": "2025-05-06T11:02:43.745008",
     "exception": false,
     "start_time": "2025-05-06T11:02:43.726981",
     "status": "completed"
    },
    "tags": []
   },
   "outputs": [
    {
     "data": {
      "text/plain": [
       "0.10810200857594222"
      ]
     },
     "execution_count": 8,
     "metadata": {},
     "output_type": "execute_result"
    }
   ],
   "source": [
    "conversion_rate_df = adv_df.loc[adv_df['clicks'] > 0 & adv_df['total_conversion'].isna()]\n",
    "# conversion_rate_df is the new df with clicks > 0 and total_conversion not null \n",
    "\n",
    "conversion_rate = conversion_rate_df['total_conversion'].sum() / conversion_rate_df['clicks'].sum()\n",
    "conversion_rate"
   ]
  },
  {
   "cell_type": "code",
   "execution_count": 9,
   "id": "294dcbc6",
   "metadata": {
    "execution": {
     "iopub.execute_input": "2025-05-06T11:02:43.760319Z",
     "iopub.status.busy": "2025-05-06T11:02:43.759634Z",
     "iopub.status.idle": "2025-05-06T11:02:43.765896Z",
     "shell.execute_reply": "2025-05-06T11:02:43.765192Z"
    },
    "papermill": {
     "duration": 0.015111,
     "end_time": "2025-05-06T11:02:43.767157",
     "exception": false,
     "start_time": "2025-05-06T11:02:43.752046",
     "status": "completed"
    },
    "tags": []
   },
   "outputs": [],
   "source": [
    "# use conversion_rate to calculate the clicks where there is inconsistency i.e. clicks less than total_conversion\n",
    "adv_df.loc[(adv_df['clicks']==0) & (adv_df['total_conversion']>0), 'clicks'] = round(adv_df['total_conversion']/conversion_rate)"
   ]
  },
  {
   "cell_type": "code",
   "execution_count": 10,
   "id": "c78d08b3",
   "metadata": {
    "execution": {
     "iopub.execute_input": "2025-05-06T11:02:43.782393Z",
     "iopub.status.busy": "2025-05-06T11:02:43.781745Z",
     "iopub.status.idle": "2025-05-06T11:02:43.787539Z",
     "shell.execute_reply": "2025-05-06T11:02:43.786705Z"
    },
    "papermill": {
     "duration": 0.015,
     "end_time": "2025-05-06T11:02:43.788996",
     "exception": false,
     "start_time": "2025-05-06T11:02:43.773996",
     "status": "completed"
    },
    "tags": []
   },
   "outputs": [],
   "source": [
    "# Next use the conversion rate to fill the nan values for the total_conversion \n",
    "adv_df.loc[adv_df['total_conversion'].isna(), 'total_conversion'] = round(adv_df['clicks'] * conversion_rate)"
   ]
  },
  {
   "cell_type": "code",
   "execution_count": 11,
   "id": "f73e7a92",
   "metadata": {
    "execution": {
     "iopub.execute_input": "2025-05-06T11:02:43.803792Z",
     "iopub.status.busy": "2025-05-06T11:02:43.803466Z",
     "iopub.status.idle": "2025-05-06T11:02:44.131857Z",
     "shell.execute_reply": "2025-05-06T11:02:44.130862Z"
    },
    "papermill": {
     "duration": 0.337517,
     "end_time": "2025-05-06T11:02:44.133463",
     "exception": false,
     "start_time": "2025-05-06T11:02:43.795946",
     "status": "completed"
    },
    "tags": []
   },
   "outputs": [
    {
     "data": {
      "image/png": "[encoded data removed]",
      "text/plain": [
       "<Figure size 1200x600 with 1 Axes>"
      ]
     },
     "metadata": {},
     "output_type": "display_data"
    }
   ],
   "source": [
    "plt.figure(figsize=(12,6))\n",
    "sns.scatterplot(x = adv_df['approved_conversion'],y = adv_df['total_conversion'])\n",
    "plt.show()"
   ]
  },
  {
   "cell_type": "markdown",
   "id": "52b44e8e",
   "metadata": {
    "papermill": {
     "duration": 0.006799,
     "end_time": "2025-05-06T11:02:44.148047",
     "exception": false,
     "start_time": "2025-05-06T11:02:44.141248",
     "status": "completed"
    },
    "tags": []
   },
   "source": [
    "From the data schema, it's likely that:\n",
    "\n",
    "```\n",
    "approved_conversion ≤ total_conversion\n",
    "```\n",
    "\n",
    "## ✅ Hybrid Strategy to Impute `approved_conversion`\n",
    "\n",
    "- **If `total_conversion` is 0 or missing → approved\\_conversion = 0**\n",
    "- **If `approved_conversion` is missing and total\\_conversion > 0 → Impute using average approval rate**\n"
   ]
  },
  {
   "cell_type": "code",
   "execution_count": 12,
   "id": "69a6474d",
   "metadata": {
    "execution": {
     "iopub.execute_input": "2025-05-06T11:02:44.163621Z",
     "iopub.status.busy": "2025-05-06T11:02:44.163282Z",
     "iopub.status.idle": "2025-05-06T11:02:44.169394Z",
     "shell.execute_reply": "2025-05-06T11:02:44.168616Z"
    },
    "papermill": {
     "duration": 0.015851,
     "end_time": "2025-05-06T11:02:44.170992",
     "exception": false,
     "start_time": "2025-05-06T11:02:44.155141",
     "status": "completed"
    },
    "tags": []
   },
   "outputs": [],
   "source": [
    "adv_df.loc[(adv_df['total_conversion'] == 0) & (adv_df['approved_conversion'].isna()), 'approved_conversion'] = 0"
   ]
  },
  {
   "cell_type": "code",
   "execution_count": 13,
   "id": "3144eb1c",
   "metadata": {
    "execution": {
     "iopub.execute_input": "2025-05-06T11:02:44.186683Z",
     "iopub.status.busy": "2025-05-06T11:02:44.186354Z",
     "iopub.status.idle": "2025-05-06T11:02:44.193044Z",
     "shell.execute_reply": "2025-05-06T11:02:44.192324Z"
    },
    "papermill": {
     "duration": 0.016121,
     "end_time": "2025-05-06T11:02:44.194493",
     "exception": false,
     "start_time": "2025-05-06T11:02:44.178372",
     "status": "completed"
    },
    "tags": []
   },
   "outputs": [
    {
     "data": {
      "text/plain": [
       "0.3559820035939142"
      ]
     },
     "execution_count": 13,
     "metadata": {},
     "output_type": "execute_result"
    }
   ],
   "source": [
    "# compute avergae approval rate\n",
    "approval_rate_series = adv_df['approved_conversion'] / adv_df['total_conversion']\n",
    "avg_approval_rate = np.mean(approval_rate_series)\n",
    "avg_approval_rate"
   ]
  },
  {
   "cell_type": "code",
   "execution_count": 14,
   "id": "c428941b",
   "metadata": {
    "execution": {
     "iopub.execute_input": "2025-05-06T11:02:44.210728Z",
     "iopub.status.busy": "2025-05-06T11:02:44.210393Z",
     "iopub.status.idle": "2025-05-06T11:02:44.216752Z",
     "shell.execute_reply": "2025-05-06T11:02:44.215974Z"
    },
    "papermill": {
     "duration": 0.016107,
     "end_time": "2025-05-06T11:02:44.218230",
     "exception": false,
     "start_time": "2025-05-06T11:02:44.202123",
     "status": "completed"
    },
    "tags": []
   },
   "outputs": [],
   "source": [
    "adv_df.loc[adv_df['approved_conversion'].isna(), 'approved_conversion'] = (adv_df['total_conversion'] * avg_approval_rate).round()"
   ]
  },
  {
   "cell_type": "code",
   "execution_count": 15,
   "id": "19a1da51",
   "metadata": {
    "execution": {
     "iopub.execute_input": "2025-05-06T11:02:44.235133Z",
     "iopub.status.busy": "2025-05-06T11:02:44.234794Z",
     "iopub.status.idle": "2025-05-06T11:02:44.243314Z",
     "shell.execute_reply": "2025-05-06T11:02:44.242633Z"
    },
    "papermill": {
     "duration": 0.018512,
     "end_time": "2025-05-06T11:02:44.244684",
     "exception": false,
     "start_time": "2025-05-06T11:02:44.226172",
     "status": "completed"
    },
    "tags": []
   },
   "outputs": [
    {
     "data": {
      "text/plain": [
       "ad_id                  0.0\n",
       "reporting_start        0.0\n",
       "reporting_end          0.0\n",
       "campaign_id            0.0\n",
       "fb_campaign_id         0.0\n",
       "age                    0.0\n",
       "gender                 0.0\n",
       "interest1              0.0\n",
       "interest2              0.0\n",
       "interest3              0.0\n",
       "impressions            0.0\n",
       "clicks                 0.0\n",
       "spent                  0.0\n",
       "total_conversion       0.0\n",
       "approved_conversion    0.0\n",
       "dtype: float64"
      ]
     },
     "execution_count": 15,
     "metadata": {},
     "output_type": "execute_result"
    }
   ],
   "source": [
    "# let us see whether thera are missing values now\n",
    "adv_df.isna().mean()"
   ]
  },
  {
   "cell_type": "markdown",
   "id": "5ed32649",
   "metadata": {
    "papermill": {
     "duration": 0.007098,
     "end_time": "2025-05-06T11:02:44.259323",
     "exception": false,
     "start_time": "2025-05-06T11:02:44.252225",
     "status": "completed"
    },
    "tags": []
   },
   "source": [
    "# Data Cleaning"
   ]
  },
  {
   "cell_type": "code",
   "execution_count": 16,
   "id": "af65f9b2",
   "metadata": {
    "execution": {
     "iopub.execute_input": "2025-05-06T11:02:44.275231Z",
     "iopub.status.busy": "2025-05-06T11:02:44.274962Z",
     "iopub.status.idle": "2025-05-06T11:02:44.289488Z",
     "shell.execute_reply": "2025-05-06T11:02:44.288718Z"
    },
    "papermill": {
     "duration": 0.024328,
     "end_time": "2025-05-06T11:02:44.290965",
     "exception": false,
     "start_time": "2025-05-06T11:02:44.266637",
     "status": "completed"
    },
    "tags": []
   },
   "outputs": [
    {
     "data": {
      "text/html": [
       "<div>\n",
       "<style scoped>\n",
       "    .dataframe tbody tr th:only-of-type {\n",
       "        vertical-align: middle;\n",
       "    }\n",
       "\n",
       "    .dataframe tbody tr th {\n",
       "        vertical-align: top;\n",
       "    }\n",
       "\n",
       "    .dataframe thead th {\n",
       "        text-align: right;\n",
       "    }\n",
       "</style>\n",
       "<table border=\"1\" class=\"dataframe\">\n",
       "  <thead>\n",
       "    <tr style=\"text-align: right;\">\n",
       "      <th></th>\n",
       "      <th>ad_id</th>\n",
       "      <th>reporting_start</th>\n",
       "      <th>reporting_end</th>\n",
       "      <th>campaign_id</th>\n",
       "      <th>fb_campaign_id</th>\n",
       "      <th>age</th>\n",
       "      <th>gender</th>\n",
       "      <th>interest1</th>\n",
       "      <th>interest2</th>\n",
       "      <th>interest3</th>\n",
       "      <th>impressions</th>\n",
       "      <th>clicks</th>\n",
       "      <th>spent</th>\n",
       "      <th>total_conversion</th>\n",
       "      <th>approved_conversion</th>\n",
       "    </tr>\n",
       "  </thead>\n",
       "  <tbody>\n",
       "    <tr>\n",
       "      <th>312</th>\n",
       "      <td>778471</td>\n",
       "      <td>27/08/2017</td>\n",
       "      <td>27/08/2017</td>\n",
       "      <td>936</td>\n",
       "      <td>115856</td>\n",
       "      <td>30-34</td>\n",
       "      <td>M</td>\n",
       "      <td>32</td>\n",
       "      <td>35</td>\n",
       "      <td>36</td>\n",
       "      <td>1273.00</td>\n",
       "      <td>9</td>\n",
       "      <td>0.00</td>\n",
       "      <td>1.0</td>\n",
       "      <td>1.0</td>\n",
       "    </tr>\n",
       "    <tr>\n",
       "      <th>981</th>\n",
       "      <td>1122146</td>\n",
       "      <td>26/08/2017</td>\n",
       "      <td>26/08/2017</td>\n",
       "      <td>40-44</td>\n",
       "      <td>F</td>\n",
       "      <td>32</td>\n",
       "      <td>38</td>\n",
       "      <td>37</td>\n",
       "      <td>319501</td>\n",
       "      <td>79</td>\n",
       "      <td>111.65</td>\n",
       "      <td>0</td>\n",
       "      <td>0.00</td>\n",
       "      <td>0.0</td>\n",
       "      <td>0.0</td>\n",
       "    </tr>\n",
       "    <tr>\n",
       "      <th>837</th>\n",
       "      <td>1121763</td>\n",
       "      <td>28/08/2017</td>\n",
       "      <td>28/08/2017</td>\n",
       "      <td>30-34</td>\n",
       "      <td>F</td>\n",
       "      <td>19</td>\n",
       "      <td>22</td>\n",
       "      <td>23</td>\n",
       "      <td>87832</td>\n",
       "      <td>11</td>\n",
       "      <td>18.10</td>\n",
       "      <td>1</td>\n",
       "      <td>1.00</td>\n",
       "      <td>0.0</td>\n",
       "      <td>0.0</td>\n",
       "    </tr>\n",
       "    <tr>\n",
       "      <th>1087</th>\n",
       "      <td>1314351</td>\n",
       "      <td>23/08/2017</td>\n",
       "      <td>23/08/2017</td>\n",
       "      <td>45-49</td>\n",
       "      <td>M</td>\n",
       "      <td>110</td>\n",
       "      <td>114</td>\n",
       "      <td>111</td>\n",
       "      <td>188758</td>\n",
       "      <td>25</td>\n",
       "      <td>36.60</td>\n",
       "      <td>2</td>\n",
       "      <td>1.00</td>\n",
       "      <td>0.0</td>\n",
       "      <td>0.0</td>\n",
       "    </tr>\n",
       "    <tr>\n",
       "      <th>739</th>\n",
       "      <td>1121532</td>\n",
       "      <td>19/08/2017</td>\n",
       "      <td>19/08/2017</td>\n",
       "      <td>1178</td>\n",
       "      <td>144612</td>\n",
       "      <td>40-44</td>\n",
       "      <td>M</td>\n",
       "      <td>30</td>\n",
       "      <td>35</td>\n",
       "      <td>32</td>\n",
       "      <td>123126.00</td>\n",
       "      <td>25</td>\n",
       "      <td>39.73</td>\n",
       "      <td>2.0</td>\n",
       "      <td>1.0</td>\n",
       "    </tr>\n",
       "  </tbody>\n",
       "</table>\n",
       "</div>"
      ],
      "text/plain": [
       "        ad_id reporting_start reporting_end campaign_id fb_campaign_id    age  \\\n",
       "312    778471      27/08/2017    27/08/2017         936         115856  30-34   \n",
       "981   1122146      26/08/2017    26/08/2017       40-44              F     32   \n",
       "837   1121763      28/08/2017    28/08/2017       30-34              F     19   \n",
       "1087  1314351      23/08/2017    23/08/2017       45-49              M    110   \n",
       "739   1121532      19/08/2017    19/08/2017        1178         144612  40-44   \n",
       "\n",
       "     gender  interest1  interest2  interest3  impressions  clicks  spent  \\\n",
       "312       M         32         35         36      1273.00       9   0.00   \n",
       "981      38         37     319501         79       111.65       0   0.00   \n",
       "837      22         23      87832         11        18.10       1   1.00   \n",
       "1087    114        111     188758         25        36.60       2   1.00   \n",
       "739       M         30         35         32    123126.00      25  39.73   \n",
       "\n",
       "      total_conversion  approved_conversion  \n",
       "312                1.0                  1.0  \n",
       "981                0.0                  0.0  \n",
       "837                0.0                  0.0  \n",
       "1087               0.0                  0.0  \n",
       "739                2.0                  1.0  "
      ]
     },
     "execution_count": 16,
     "metadata": {},
     "output_type": "execute_result"
    }
   ],
   "source": [
    "adv_df.sample(5)"
   ]
  },
  {
   "cell_type": "markdown",
   "id": "0ca37404",
   "metadata": {
    "papermill": {
     "duration": 0.007329,
     "end_time": "2025-05-06T11:02:44.306078",
     "exception": false,
     "start_time": "2025-05-06T11:02:44.298749",
     "status": "completed"
    },
    "tags": []
   },
   "source": [
    "## Cleaning `gender` column"
   ]
  },
  {
   "cell_type": "code",
   "execution_count": 17,
   "id": "1620797a",
   "metadata": {
    "execution": {
     "iopub.execute_input": "2025-05-06T11:02:44.323009Z",
     "iopub.status.busy": "2025-05-06T11:02:44.322698Z",
     "iopub.status.idle": "2025-05-06T11:02:44.331856Z",
     "shell.execute_reply": "2025-05-06T11:02:44.331010Z"
    },
    "papermill": {
     "duration": 0.019632,
     "end_time": "2025-05-06T11:02:44.333412",
     "exception": false,
     "start_time": "2025-05-06T11:02:44.313780",
     "status": "completed"
    },
    "tags": []
   },
   "outputs": [
    {
     "data": {
      "text/plain": [
       "array(['M', 'F'], dtype=object)"
      ]
     },
     "execution_count": 17,
     "metadata": {},
     "output_type": "execute_result"
    }
   ],
   "source": [
    "adv_df.loc[(adv_df['fb_campaign_id']=='M') | (adv_df['fb_campaign_id']=='F'), 'gender'] = adv_df['fb_campaign_id']\n",
    "adv_df['gender'].unique()"
   ]
  },
  {
   "cell_type": "markdown",
   "id": "b3b0042c",
   "metadata": {
    "papermill": {
     "duration": 0.007987,
     "end_time": "2025-05-06T11:02:44.349346",
     "exception": false,
     "start_time": "2025-05-06T11:02:44.341359",
     "status": "completed"
    },
    "tags": []
   },
   "source": [
    "## Cleaning `campaign_id`\n",
    "> Note: There must be 3 distinct `campaign_id`"
   ]
  },
  {
   "cell_type": "code",
   "execution_count": 18,
   "id": "7dd9d81a",
   "metadata": {
    "execution": {
     "iopub.execute_input": "2025-05-06T11:02:44.366538Z",
     "iopub.status.busy": "2025-05-06T11:02:44.366225Z",
     "iopub.status.idle": "2025-05-06T11:02:44.378912Z",
     "shell.execute_reply": "2025-05-06T11:02:44.378218Z"
    },
    "papermill": {
     "duration": 0.022742,
     "end_time": "2025-05-06T11:02:44.380333",
     "exception": false,
     "start_time": "2025-05-06T11:02:44.357591",
     "status": "completed"
    },
    "tags": []
   },
   "outputs": [
    {
     "data": {
      "text/html": [
       "<div>\n",
       "<style scoped>\n",
       "    .dataframe tbody tr th:only-of-type {\n",
       "        vertical-align: middle;\n",
       "    }\n",
       "\n",
       "    .dataframe tbody tr th {\n",
       "        vertical-align: top;\n",
       "    }\n",
       "\n",
       "    .dataframe thead th {\n",
       "        text-align: right;\n",
       "    }\n",
       "</style>\n",
       "<table border=\"1\" class=\"dataframe\">\n",
       "  <thead>\n",
       "    <tr style=\"text-align: right;\">\n",
       "      <th></th>\n",
       "      <th>ad_id</th>\n",
       "    </tr>\n",
       "    <tr>\n",
       "      <th>campaign_id</th>\n",
       "      <th></th>\n",
       "    </tr>\n",
       "  </thead>\n",
       "  <tbody>\n",
       "    <tr>\n",
       "      <th>1178</th>\n",
       "      <td>1.121325e+06</td>\n",
       "    </tr>\n",
       "    <tr>\n",
       "      <th>30-34</th>\n",
       "      <td>1.164595e+06</td>\n",
       "    </tr>\n",
       "    <tr>\n",
       "      <th>35-39</th>\n",
       "      <td>1.187025e+06</td>\n",
       "    </tr>\n",
       "    <tr>\n",
       "      <th>40-44</th>\n",
       "      <td>1.189805e+06</td>\n",
       "    </tr>\n",
       "    <tr>\n",
       "      <th>45-49</th>\n",
       "      <td>1.155344e+06</td>\n",
       "    </tr>\n",
       "    <tr>\n",
       "      <th>916</th>\n",
       "      <td>7.098885e+05</td>\n",
       "    </tr>\n",
       "    <tr>\n",
       "      <th>936</th>\n",
       "      <td>7.990632e+05</td>\n",
       "    </tr>\n",
       "  </tbody>\n",
       "</table>\n",
       "</div>"
      ],
      "text/plain": [
       "                    ad_id\n",
       "campaign_id              \n",
       "1178         1.121325e+06\n",
       "30-34        1.164595e+06\n",
       "35-39        1.187025e+06\n",
       "40-44        1.189805e+06\n",
       "45-49        1.155344e+06\n",
       "916          7.098885e+05\n",
       "936          7.990632e+05"
      ]
     },
     "execution_count": 18,
     "metadata": {},
     "output_type": "execute_result"
    }
   ],
   "source": [
    "adv_df[['ad_id', 'campaign_id']].groupby(by='campaign_id').mean()"
   ]
  },
  {
   "cell_type": "markdown",
   "id": "d24d281a",
   "metadata": {
    "papermill": {
     "duration": 0.007575,
     "end_time": "2025-05-06T11:02:44.460179",
     "exception": false,
     "start_time": "2025-05-06T11:02:44.452604",
     "status": "completed"
    },
    "tags": []
   },
   "source": [
    "The rows like `\"30-34\"`, `\"35-39\"`, etc., are not actual IDs but instead appear to be **age groups** that were accidentally included in the `campaign_id` column, possibly due to a data misalignment or parsing issue.\n",
    "\n",
    "### 🧠 Interpretation\n",
    "\n",
    "* This implies that there was **data corruption or a column shift** — possibly while importing the data from a CSV or during a previous transformation step.\n",
    "* All the rows with these age ranges likely belong to the same actual campaign, probably `1178`, as their `ad_id` average aligns closely with the known correct entries.\n",
    "\n",
    "### ✅ What to Do Next?\n",
    "\n",
    "1. **Filter these faulty entries** and inspect the rows where `campaign_id` is in an unexpected format (like strings).\n",
    "2. **Correct the values** — potentially by moving the misplaced value to the correct `age` column.\n",
    "\n",
    "### 📌 Brief Summary\n",
    "\n",
    "> When grouping by `campaign_id`, non-numeric values like `30-34` appeared, which are actually age ranges mistakenly placed in the ID column. Their mean `ad_id` closely matches real campaign rows (e.g., `1178`), confirming a misalignment. This should be cleaned to ensure accurate campaign analysis.\n",
    "---\n"
   ]
  },
  {
   "cell_type": "code",
   "execution_count": 19,
   "id": "cf922de0",
   "metadata": {
    "execution": {
     "iopub.execute_input": "2025-05-06T11:02:44.477235Z",
     "iopub.status.busy": "2025-05-06T11:02:44.476891Z",
     "iopub.status.idle": "2025-05-06T11:02:44.483314Z",
     "shell.execute_reply": "2025-05-06T11:02:44.482423Z"
    },
    "papermill": {
     "duration": 0.016908,
     "end_time": "2025-05-06T11:02:44.484908",
     "exception": false,
     "start_time": "2025-05-06T11:02:44.468000",
     "status": "completed"
    },
    "tags": []
   },
   "outputs": [
    {
     "data": {
      "text/plain": [
       "array(['916', '936', '1178', '45-49', '30-34', '35-39', '40-44'],\n",
       "      dtype=object)"
      ]
     },
     "execution_count": 19,
     "metadata": {},
     "output_type": "execute_result"
    }
   ],
   "source": [
    "adv_df['campaign_id'].unique()"
   ]
  },
  {
   "cell_type": "code",
   "execution_count": 20,
   "id": "246426dd",
   "metadata": {
    "execution": {
     "iopub.execute_input": "2025-05-06T11:02:44.503178Z",
     "iopub.status.busy": "2025-05-06T11:02:44.502865Z",
     "iopub.status.idle": "2025-05-06T11:02:44.510131Z",
     "shell.execute_reply": "2025-05-06T11:02:44.509365Z"
    },
    "papermill": {
     "duration": 0.018277,
     "end_time": "2025-05-06T11:02:44.511821",
     "exception": false,
     "start_time": "2025-05-06T11:02:44.493544",
     "status": "completed"
    },
    "tags": []
   },
   "outputs": [],
   "source": [
    "#  moving the misplaced value to the correct age column.\n",
    "adv_df.loc[adv_df['campaign_id'].isin(['45-49', '30-34', '35-39', '40-44']), 'age'] = adv_df['campaign_id']"
   ]
  },
  {
   "cell_type": "code",
   "execution_count": 21,
   "id": "4c51ea61",
   "metadata": {
    "execution": {
     "iopub.execute_input": "2025-05-06T11:02:44.530120Z",
     "iopub.status.busy": "2025-05-06T11:02:44.529827Z",
     "iopub.status.idle": "2025-05-06T11:02:44.537266Z",
     "shell.execute_reply": "2025-05-06T11:02:44.536400Z"
    },
    "papermill": {
     "duration": 0.018502,
     "end_time": "2025-05-06T11:02:44.538688",
     "exception": false,
     "start_time": "2025-05-06T11:02:44.520186",
     "status": "completed"
    },
    "tags": []
   },
   "outputs": [
    {
     "data": {
      "text/plain": [
       "array(['916', '936', '1178'], dtype=object)"
      ]
     },
     "execution_count": 21,
     "metadata": {},
     "output_type": "execute_result"
    }
   ],
   "source": [
    "# All the rows with these age ranges likely belong to the same actual campaign, probably 1178, \n",
    "# as their ad_id average aligns closely with the known correct entries.\n",
    "\n",
    "adv_df.loc[adv_df['campaign_id'].isin(['45-49', '30-34', '35-39', '40-44']), 'campaign_id'] = '1178'\n",
    "adv_df['campaign_id'].unique()"
   ]
  },
  {
   "cell_type": "markdown",
   "id": "5f93edaa",
   "metadata": {
    "papermill": {
     "duration": 0.008957,
     "end_time": "2025-05-06T11:02:44.556490",
     "exception": false,
     "start_time": "2025-05-06T11:02:44.547533",
     "status": "completed"
    },
    "tags": []
   },
   "source": [
    "## Drop `fb_camapaign_id`"
   ]
  },
  {
   "cell_type": "code",
   "execution_count": 22,
   "id": "ac820e30",
   "metadata": {
    "execution": {
     "iopub.execute_input": "2025-05-06T11:02:44.574697Z",
     "iopub.status.busy": "2025-05-06T11:02:44.574362Z",
     "iopub.status.idle": "2025-05-06T11:02:44.582713Z",
     "shell.execute_reply": "2025-05-06T11:02:44.581589Z"
    },
    "papermill": {
     "duration": 0.019033,
     "end_time": "2025-05-06T11:02:44.584097",
     "exception": false,
     "start_time": "2025-05-06T11:02:44.565064",
     "status": "completed"
    },
    "tags": []
   },
   "outputs": [
    {
     "data": {
      "text/plain": [
       "1143"
      ]
     },
     "execution_count": 22,
     "metadata": {},
     "output_type": "execute_result"
    }
   ],
   "source": [
    "adv_df['ad_id'].nunique()"
   ]
  },
  {
   "cell_type": "markdown",
   "id": "1571622e",
   "metadata": {
    "papermill": {
     "duration": 0.008039,
     "end_time": "2025-05-06T11:02:44.600954",
     "exception": false,
     "start_time": "2025-05-06T11:02:44.592915",
     "status": "completed"
    },
    "tags": []
   },
   "source": [
    "Since `ad_id` uniquely identifies each row, I can drop the `fb_campaign_id` columns from the dataframe. "
   ]
  },
  {
   "cell_type": "code",
   "execution_count": 23,
   "id": "4ecb8c4d",
   "metadata": {
    "execution": {
     "iopub.execute_input": "2025-05-06T11:02:44.619201Z",
     "iopub.status.busy": "2025-05-06T11:02:44.618286Z",
     "iopub.status.idle": "2025-05-06T11:02:44.625267Z",
     "shell.execute_reply": "2025-05-06T11:02:44.624494Z"
    },
    "papermill": {
     "duration": 0.017731,
     "end_time": "2025-05-06T11:02:44.626779",
     "exception": false,
     "start_time": "2025-05-06T11:02:44.609048",
     "status": "completed"
    },
    "tags": []
   },
   "outputs": [
    {
     "data": {
      "text/plain": [
       "Index(['ad_id', 'reporting_start', 'reporting_end', 'campaign_id', 'age',\n",
       "       'gender', 'interest1', 'interest2', 'interest3', 'impressions',\n",
       "       'clicks', 'spent', 'total_conversion', 'approved_conversion'],\n",
       "      dtype='object')"
      ]
     },
     "execution_count": 23,
     "metadata": {},
     "output_type": "execute_result"
    }
   ],
   "source": [
    "adv_df = adv_df.drop(['fb_campaign_id'], axis=1)\n",
    "adv_df.columns"
   ]
  },
  {
   "cell_type": "markdown",
   "id": "14982903",
   "metadata": {
    "papermill": {
     "duration": 0.008008,
     "end_time": "2025-05-06T11:02:44.643355",
     "exception": false,
     "start_time": "2025-05-06T11:02:44.635347",
     "status": "completed"
    },
    "tags": []
   },
   "source": [
    "# KPI = Key Performance Indicators "
   ]
  },
  {
   "cell_type": "code",
   "execution_count": null,
   "id": "23fa1021",
   "metadata": {
    "papermill": {
     "duration": 0.007998,
     "end_time": "2025-05-06T11:02:44.659485",
     "exception": false,
     "start_time": "2025-05-06T11:02:44.651487",
     "status": "completed"
    },
    "tags": []
   },
   "outputs": [],
   "source": []
  }
 ],
 "metadata": {
  "kaggle": {
   "accelerator": "none",
   "dataSources": [
    {
     "datasetId": 104115,
     "sourceId": 247225,
     "sourceType": "datasetVersion"
    }
   ],
   "dockerImageVersionId": 31012,
   "isGpuEnabled": false,
   "isInternetEnabled": true,
   "language": "python",
   "sourceType": "notebook"
  },
  "kernelspec": {
   "display_name": "Python 3",
   "language": "python",
   "name": "python3"
  },
  "language_info": {
   "codemirror_mode": {
    "name": "ipython",
    "version": 3
   },
   "file_extension": ".py",
   "mimetype": "text/x-python",
   "name": "python",
   "nbconvert_exporter": "python",
   "pygments_lexer": "ipython3",
   "version": "3.11.11"
  },
  "papermill": {
   "default_parameters": {},
   "duration": 11.080008,
   "end_time": "2025-05-06T11:02:45.387617",
   "environment_variables": {},
   "exception": null,
   "input_path": "__notebook__.ipynb",
   "output_path": "__notebook__.ipynb",
   "parameters": {},
   "start_time": "2025-05-06T11:02:34.307609",
   "version": "2.6.0"
  }
 },
 "nbformat": 4,
 "nbformat_minor": 5
}
