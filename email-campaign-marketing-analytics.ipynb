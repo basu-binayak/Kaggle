{
 "cells": [
  {
   "cell_type": "code",
   "execution_count": 1,
   "id": "0be42ef7",
   "metadata": {
    "_cell_guid": "b1076dfc-b9ad-4769-8c92-a6c4dae69d19",
    "_uuid": "8f2839f25d086af736a60e9eeb907d3b93b6e0e5",
    "execution": {
     "iopub.execute_input": "2025-05-06T11:27:36.498930Z",
     "iopub.status.busy": "2025-05-06T11:27:36.498473Z",
     "iopub.status.idle": "2025-05-06T11:27:38.474699Z",
     "shell.execute_reply": "2025-05-06T11:27:38.473405Z"
    },
    "papermill": {
     "duration": 1.981755,
     "end_time": "2025-05-06T11:27:38.476599",
     "exception": false,
     "start_time": "2025-05-06T11:27:36.494844",
     "status": "completed"
    },
    "tags": []
   },
   "outputs": [
    {
     "name": "stdout",
     "output_type": "stream",
     "text": [
      "/kaggle/input/email-campaign-management-for-sme/Train_psolI3n.csv\n",
      "/kaggle/input/email-campaign-management-for-sme/Test_09JmpYa.csv\n"
     ]
    }
   ],
   "source": [
    "# This Python 3 environment comes with many helpful analytics libraries installed\n",
    "# It is defined by the kaggle/python Docker image: https://github.com/kaggle/docker-python\n",
    "# For example, here's several helpful packages to load\n",
    "\n",
    "import numpy as np # linear algebra\n",
    "import pandas as pd # data processing, CSV file I/O (e.g. pd.read_csv)\n",
    "\n",
    "# Input data files are available in the read-only \"../input/\" directory\n",
    "# For example, running this (by clicking run or pressing Shift+Enter) will list all files under the input directory\n",
    "\n",
    "import os\n",
    "for dirname, _, filenames in os.walk('/kaggle/input'):\n",
    "    for filename in filenames:\n",
    "        print(os.path.join(dirname, filename))\n",
    "\n",
    "# You can write up to 20GB to the current directory (/kaggle/working/) that gets preserved as output when you create a version using \"Save & Run All\" \n",
    "# You can also write temporary files to /kaggle/temp/, but they won't be saved outside of the current session"
   ]
  },
  {
   "cell_type": "code",
   "execution_count": 2,
   "id": "fb2d9d18",
   "metadata": {
    "execution": {
     "iopub.execute_input": "2025-05-06T11:27:38.482313Z",
     "iopub.status.busy": "2025-05-06T11:27:38.481860Z",
     "iopub.status.idle": "2025-05-06T11:27:40.442982Z",
     "shell.execute_reply": "2025-05-06T11:27:40.441980Z"
    },
    "papermill": {
     "duration": 1.965983,
     "end_time": "2025-05-06T11:27:40.444956",
     "exception": false,
     "start_time": "2025-05-06T11:27:38.478973",
     "status": "completed"
    },
    "tags": []
   },
   "outputs": [],
   "source": [
    "# import necessary libraries \n",
    "import pandas as pd \n",
    "import numpy as np \n",
    "import matplotlib.pyplot as plt \n",
    "import seaborn as sns \n",
    "sns.set_style('darkgrid')\n",
    "\n",
    "import warnings\n",
    "warnings.filterwarnings(\"ignore\")"
   ]
  },
  {
   "cell_type": "code",
   "execution_count": 3,
   "id": "c8ed7051",
   "metadata": {
    "execution": {
     "iopub.execute_input": "2025-05-06T11:27:40.450289Z",
     "iopub.status.busy": "2025-05-06T11:27:40.449785Z",
     "iopub.status.idle": "2025-05-06T11:27:40.709004Z",
     "shell.execute_reply": "2025-05-06T11:27:40.707911Z"
    },
    "papermill": {
     "duration": 0.263735,
     "end_time": "2025-05-06T11:27:40.710768",
     "exception": false,
     "start_time": "2025-05-06T11:27:40.447033",
     "status": "completed"
    },
    "tags": []
   },
   "outputs": [
    {
     "data": {
      "text/html": [
       "<div>\n",
       "<style scoped>\n",
       "    .dataframe tbody tr th:only-of-type {\n",
       "        vertical-align: middle;\n",
       "    }\n",
       "\n",
       "    .dataframe tbody tr th {\n",
       "        vertical-align: top;\n",
       "    }\n",
       "\n",
       "    .dataframe thead th {\n",
       "        text-align: right;\n",
       "    }\n",
       "</style>\n",
       "<table border=\"1\" class=\"dataframe\">\n",
       "  <thead>\n",
       "    <tr style=\"text-align: right;\">\n",
       "      <th></th>\n",
       "      <th>Email_ID</th>\n",
       "      <th>Email_Type</th>\n",
       "      <th>Subject_Hotness_Score</th>\n",
       "      <th>Email_Source_Type</th>\n",
       "      <th>Customer_Location</th>\n",
       "      <th>Email_Campaign_Type</th>\n",
       "      <th>Total_Past_Communications</th>\n",
       "      <th>Time_Email_sent_Category</th>\n",
       "      <th>Word_Count</th>\n",
       "      <th>Total_Links</th>\n",
       "      <th>Total_Images</th>\n",
       "      <th>Email_Status</th>\n",
       "    </tr>\n",
       "  </thead>\n",
       "  <tbody>\n",
       "    <tr>\n",
       "      <th>58216</th>\n",
       "      <td>EMA00086212726940</td>\n",
       "      <td>1</td>\n",
       "      <td>0.5</td>\n",
       "      <td>1</td>\n",
       "      <td>NaN</td>\n",
       "      <td>2</td>\n",
       "      <td>47.0</td>\n",
       "      <td>2</td>\n",
       "      <td>416</td>\n",
       "      <td>14.0</td>\n",
       "      <td>8.0</td>\n",
       "      <td>1</td>\n",
       "    </tr>\n",
       "    <tr>\n",
       "      <th>56407</th>\n",
       "      <td>EMA00086051459580</td>\n",
       "      <td>2</td>\n",
       "      <td>0.0</td>\n",
       "      <td>2</td>\n",
       "      <td>C</td>\n",
       "      <td>3</td>\n",
       "      <td>37.0</td>\n",
       "      <td>2</td>\n",
       "      <td>760</td>\n",
       "      <td>31.0</td>\n",
       "      <td>17.0</td>\n",
       "      <td>0</td>\n",
       "    </tr>\n",
       "    <tr>\n",
       "      <th>31290</th>\n",
       "      <td>EMA00083795273160</td>\n",
       "      <td>1</td>\n",
       "      <td>2.3</td>\n",
       "      <td>1</td>\n",
       "      <td>E</td>\n",
       "      <td>2</td>\n",
       "      <td>22.0</td>\n",
       "      <td>1</td>\n",
       "      <td>416</td>\n",
       "      <td>11.0</td>\n",
       "      <td>6.0</td>\n",
       "      <td>1</td>\n",
       "    </tr>\n",
       "    <tr>\n",
       "      <th>14355</th>\n",
       "      <td>EMA00082289418220</td>\n",
       "      <td>1</td>\n",
       "      <td>1.2</td>\n",
       "      <td>2</td>\n",
       "      <td>G</td>\n",
       "      <td>2</td>\n",
       "      <td>17.0</td>\n",
       "      <td>2</td>\n",
       "      <td>684</td>\n",
       "      <td>11.0</td>\n",
       "      <td>3.0</td>\n",
       "      <td>0</td>\n",
       "    </tr>\n",
       "    <tr>\n",
       "      <th>66299</th>\n",
       "      <td>EMA00088192175400</td>\n",
       "      <td>1</td>\n",
       "      <td>1.4</td>\n",
       "      <td>2</td>\n",
       "      <td>NaN</td>\n",
       "      <td>2</td>\n",
       "      <td>33.0</td>\n",
       "      <td>2</td>\n",
       "      <td>778</td>\n",
       "      <td>21.0</td>\n",
       "      <td>9.0</td>\n",
       "      <td>0</td>\n",
       "    </tr>\n",
       "  </tbody>\n",
       "</table>\n",
       "</div>"
      ],
      "text/plain": [
       "                Email_ID  Email_Type  Subject_Hotness_Score  \\\n",
       "58216  EMA00086212726940           1                    0.5   \n",
       "56407  EMA00086051459580           2                    0.0   \n",
       "31290  EMA00083795273160           1                    2.3   \n",
       "14355  EMA00082289418220           1                    1.2   \n",
       "66299  EMA00088192175400           1                    1.4   \n",
       "\n",
       "       Email_Source_Type Customer_Location  Email_Campaign_Type  \\\n",
       "58216                  1               NaN                    2   \n",
       "56407                  2                 C                    3   \n",
       "31290                  1                 E                    2   \n",
       "14355                  2                 G                    2   \n",
       "66299                  2               NaN                    2   \n",
       "\n",
       "       Total_Past_Communications  Time_Email_sent_Category  Word_Count  \\\n",
       "58216                       47.0                         2         416   \n",
       "56407                       37.0                         2         760   \n",
       "31290                       22.0                         1         416   \n",
       "14355                       17.0                         2         684   \n",
       "66299                       33.0                         2         778   \n",
       "\n",
       "       Total_Links  Total_Images  Email_Status  \n",
       "58216         14.0           8.0             1  \n",
       "56407         31.0          17.0             0  \n",
       "31290         11.0           6.0             1  \n",
       "14355         11.0           3.0             0  \n",
       "66299         21.0           9.0             0  "
      ]
     },
     "execution_count": 3,
     "metadata": {},
     "output_type": "execute_result"
    }
   ],
   "source": [
    "# import data\n",
    "ecm_df = pd.read_csv('/kaggle/input/email-campaign-management-for-sme/Train_psolI3n.csv')\n",
    "ecm_df.sample(5)"
   ]
  },
  {
   "cell_type": "code",
   "execution_count": 4,
   "id": "e0f371cf",
   "metadata": {
    "execution": {
     "iopub.execute_input": "2025-05-06T11:27:40.716394Z",
     "iopub.status.busy": "2025-05-06T11:27:40.716073Z",
     "iopub.status.idle": "2025-05-06T11:27:40.746516Z",
     "shell.execute_reply": "2025-05-06T11:27:40.745424Z"
    },
    "papermill": {
     "duration": 0.035125,
     "end_time": "2025-05-06T11:27:40.748168",
     "exception": false,
     "start_time": "2025-05-06T11:27:40.713043",
     "status": "completed"
    },
    "tags": []
   },
   "outputs": [
    {
     "name": "stdout",
     "output_type": "stream",
     "text": [
      "<class 'pandas.core.frame.DataFrame'>\n",
      "RangeIndex: 68353 entries, 0 to 68352\n",
      "Data columns (total 12 columns):\n",
      " #   Column                     Non-Null Count  Dtype  \n",
      "---  ------                     --------------  -----  \n",
      " 0   Email_ID                   68353 non-null  object \n",
      " 1   Email_Type                 68353 non-null  int64  \n",
      " 2   Subject_Hotness_Score      68353 non-null  float64\n",
      " 3   Email_Source_Type          68353 non-null  int64  \n",
      " 4   Customer_Location          56758 non-null  object \n",
      " 5   Email_Campaign_Type        68353 non-null  int64  \n",
      " 6   Total_Past_Communications  61528 non-null  float64\n",
      " 7   Time_Email_sent_Category   68353 non-null  int64  \n",
      " 8   Word_Count                 68353 non-null  int64  \n",
      " 9   Total_Links                66152 non-null  float64\n",
      " 10  Total_Images               66676 non-null  float64\n",
      " 11  Email_Status               68353 non-null  int64  \n",
      "dtypes: float64(4), int64(6), object(2)\n",
      "memory usage: 6.3+ MB\n"
     ]
    }
   ],
   "source": [
    "ecm_df.info()"
   ]
  },
  {
   "cell_type": "code",
   "execution_count": null,
   "id": "8005e7a1",
   "metadata": {
    "papermill": {
     "duration": 0.002103,
     "end_time": "2025-05-06T11:27:40.752972",
     "exception": false,
     "start_time": "2025-05-06T11:27:40.750869",
     "status": "completed"
    },
    "tags": []
   },
   "outputs": [],
   "source": []
  }
 ],
 "metadata": {
  "kaggle": {
   "accelerator": "none",
   "dataSources": [
    {
     "datasetId": 2884,
     "sourceId": 4853,
     "sourceType": "datasetVersion"
    }
   ],
   "dockerImageVersionId": 31012,
   "isGpuEnabled": false,
   "isInternetEnabled": true,
   "language": "python",
   "sourceType": "notebook"
  },
  "kernelspec": {
   "display_name": "Python 3",
   "language": "python",
   "name": "python3"
  },
  "language_info": {
   "codemirror_mode": {
    "name": "ipython",
    "version": 3
   },
   "file_extension": ".py",
   "mimetype": "text/x-python",
   "name": "python",
   "nbconvert_exporter": "python",
   "pygments_lexer": "ipython3",
   "version": "3.11.11"
  },
  "papermill": {
   "default_parameters": {},
   "duration": 9.888203,
   "end_time": "2025-05-06T11:27:41.475466",
   "environment_variables": {},
   "exception": null,
   "input_path": "__notebook__.ipynb",
   "output_path": "__notebook__.ipynb",
   "parameters": {},
   "start_time": "2025-05-06T11:27:31.587263",
   "version": "2.6.0"
  }
 },
 "nbformat": 4,
 "nbformat_minor": 5
}
